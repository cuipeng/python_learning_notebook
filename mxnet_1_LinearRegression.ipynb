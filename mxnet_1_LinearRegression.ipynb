{
 "cells": [
  {
   "cell_type": "markdown",
   "metadata": {},
   "source": [
    "生成需要得伪数据:"
   ]
  },
  {
   "cell_type": "code",
   "execution_count": null,
   "metadata": {},
   "outputs": [],
   "source": [
    "from mxnet import ndarray as nd\n",
    "from mxnet import autograd as ag\n",
    "\n",
    "num_inputs = 2\n",
    "num_examples = 1000\n",
    "\n",
    "# y[i] = 2 * x[i][0] -3.4 * x[i][1] + 4.2 + noise\n",
    "w_true = [2, -3.4]\n",
    "b_true = 4.2\n",
    "\n",
    "X = nd.random_normal(shape = (num_examples, num_inputs))\n",
    "y = w_true[0] * X[:, 0] + w_true[1] * X[:, 1] + b_true\n",
    "y += .01 * nd.random_normal(shape=y.shape)\n",
    "\n",
    "print (X[0], y[0])"
   ]
  },
  {
   "cell_type": "markdown",
   "metadata": {},
   "source": [
    "不用gluon，只用ndarray（需要先跑伪数据）:"
   ]
  },
  {
   "cell_type": "code",
   "execution_count": null,
   "metadata": {},
   "outputs": [],
   "source": [
    "import random\n",
    "\n",
    "batch_size = 10\n",
    "\n",
    "def data_iter():\n",
    "    idx = list(range(num_examples))\n",
    "    random.shuffle(idx)\n",
    "    for i in range(0, num_examples, batch_size):\n",
    "        j = nd.array(idx[i:min(i + batch_size,num_examples)])\n",
    "        yield nd.take(X,j), nd.take(y,j)\n",
    "\n",
    "\n",
    "w = nd.random_normal(shape=(num_inputs, 1))\n",
    "b = nd.zeros((1,))\n",
    "params = [w,b]\n",
    "\n",
    "for param in params:\n",
    "    param.attach_grad()\n",
    "\n",
    "\n",
    "def net(X):\n",
    "    return nd.dot(X, w) + b\n",
    "\n",
    "def square_loss(yhat, y):\n",
    "    return (yhat - y.reshape(yhat.shape)) ** 2\n",
    "\n",
    "def SGD(params, lr):\n",
    "    for param in params:\n",
    "        param[:] = param - lr * param.grad\n",
    "\n",
    "epochs = 5\n",
    "learning_rate = .01\n",
    "\n",
    "for e in range(epochs):\n",
    "    total_loss = 0\n",
    "    for data, label in data_iter():\n",
    "        with ag.record():\n",
    "            output = net(data)\n",
    "            loss = square_loss(output, label)\n",
    "        \n",
    "        loss.backward()\n",
    "        SGD(params, learning_rate)\n",
    "        \n",
    "        total_loss += nd.sum(loss).asscalar()\n",
    "    print (\"Epoch %d, average loss: %f\" %(e, total_loss/num_examples))\n",
    "        \n",
    "    "
   ]
  },
  {
   "cell_type": "markdown",
   "metadata": {},
   "source": [
    "只用gluon（需要先跑伪数据）:"
   ]
  },
  {
   "cell_type": "code",
   "execution_count": null,
   "metadata": {},
   "outputs": [],
   "source": [
    "from mxnet import gluon\n",
    "\n",
    "batch_size = 10\n",
    "dataset = gluon.data.ArrayDataset(X, y)\n",
    "data_iter = gluon.data.DataLoader(dataset, batch_size, shuffle=True)\n",
    "\n",
    "net_g = gluon.nn.Sequential()\n",
    "net_g.add(gluon.nn.Dense(1)) #1代表输出,input不要设置\n",
    "\n",
    "net_g.initialize()\n",
    "square_loss = gluon.loss.L2Loss()\n",
    "\n",
    "trainer = gluon.Trainer(net_g.collect_params(), 'sgd', {'learning_rate':0.1})#不同点！！！\n",
    "\n",
    "epochs = 5\n",
    "learning_rate = .01\n",
    "\n",
    "for e in range(epochs):\n",
    "    total_loss = 0\n",
    "    for data, label in data_iter:\n",
    "        with ag.record():\n",
    "            output = net_g(data)\n",
    "            loss = square_loss(output, label)\n",
    "        \n",
    "        loss.backward()\n",
    "        trainer.step(batch_size) #SGD(params, learning_rate)不同点！！！\n",
    "\n",
    "        total_loss += nd.sum(loss).asscalar()\n",
    "    print (\"Epoch %d, average loss: %f\" %(e, total_loss/num_examples))\n"
   ]
  }
 ],
 "metadata": {
  "kernelspec": {
   "display_name": "Python 3",
   "language": "python",
   "name": "python3"
  },
  "language_info": {
   "codemirror_mode": {
    "name": "ipython",
    "version": 3
   },
   "file_extension": ".py",
   "mimetype": "text/x-python",
   "name": "python",
   "nbconvert_exporter": "python",
   "pygments_lexer": "ipython3",
   "version": "3.6.4"
  }
 },
 "nbformat": 4,
 "nbformat_minor": 2
}
