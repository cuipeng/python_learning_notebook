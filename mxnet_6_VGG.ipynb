{
 "cells": [
  {
   "cell_type": "code",
   "execution_count": null,
   "metadata": {},
   "outputs": [],
   "source": [
    "from mxnet.gluon import nn\n",
    "\n",
    "def vgg_block(num_convs, channels):\n",
    "    out = nn.Sequential()\n",
    "    with out.name_scope():\n",
    "        for _ in range(num_convs):\n",
    "            out.add(nn.Conv2D(channels=channels, kernel_size=3,padding=1,activation='relu'))\n",
    "        out.add(nn.MaxPool2D(pool_size=2, strides=2))\n",
    "    return out"
   ]
  },
  {
   "cell_type": "code",
   "execution_count": null,
   "metadata": {},
   "outputs": [],
   "source": [
    "from mxnet import nd\n",
    "\n",
    "blk = vgg_block(2, 128)\n",
    "blk.initialize()\n",
    "\n",
    "x = nd.random.uniform(shape=(2,3,16,16))\n",
    "y = blk(x)\n",
    "y.shape\n",
    "print (blk)"
   ]
  },
  {
   "cell_type": "markdown",
   "metadata": {},
   "source": [
    "## VGG STACK\n",
    "vgg stack 是block的stack，每个block中的conv是可以自定义的。"
   ]
  },
  {
   "cell_type": "code",
   "execution_count": null,
   "metadata": {},
   "outputs": [],
   "source": [
    "def vgg_stack(arch):\n",
    "    out = nn.Sequential()\n",
    "    with out.name_scope():\n",
    "        for (num_convs, channels) in arch:\n",
    "            out.add(vgg_block(num_convs, channels))\n",
    "    return out"
   ]
  },
  {
   "cell_type": "code",
   "execution_count": null,
   "metadata": {},
   "outputs": [],
   "source": [
    "num_outputs = 10\n",
    "arch = ((1,64), (1,128), (2,256), (2,512), (2,512))\n",
    "net = nn.Sequential()\n",
    "with net.name_scope():\n",
    "    net.add(vgg_stack(arch))\n",
    "    net.add(nn.Flatten())\n",
    "    net.add(nn.Dense(4096, activation='relu'))\n",
    "    net.add(nn.Dropout(.5))\n",
    "    net.add(nn.Dense(4096, activation='relu'))\n",
    "    net.add(nn.Dropout(.5))\n",
    "    net.add(nn.Dense(num_outputs))"
   ]
  },
  {
   "cell_type": "markdown",
   "metadata": {},
   "source": [
    "net有8个卷积层，和跟Alexnet一样的3个全连接层。\n",
    "这个网络又称VGG 11。"
   ]
  },
  {
   "cell_type": "code",
   "execution_count": null,
   "metadata": {},
   "outputs": [],
   "source": [
    "net"
   ]
  },
  {
   "cell_type": "markdown",
   "metadata": {},
   "source": [
    "训练"
   ]
  },
  {
   "cell_type": "code",
   "execution_count": null,
   "metadata": {},
   "outputs": [],
   "source": [
    "import sys\n",
    "sys.path.append('..')\n",
    "import utils\n",
    "from mxnet import gluon\n",
    "from mxnet import init\n",
    "\n",
    "train_data, test_data = utils.load_data_fashion_mnist(\n",
    "    batch_size=64, resize=96)\n",
    "\n",
    "ctx = utils.try_gpu()\n",
    "net.initialize(ctx=ctx, init=init.Xavier())\n",
    "\n",
    "loss = gluon.loss.SoftmaxCrossEntropyLoss()\n",
    "trainer = gluon.Trainer(net.collect_params(),\n",
    "                        'sgd', {'learning_rate': 0.05})\n",
    "utils.train(train_data, test_data, net, loss,\n",
    "            trainer, ctx, num_epochs=1)"
   ]
  }
 ],
 "metadata": {
  "kernelspec": {
   "display_name": "Python 3",
   "language": "python",
   "name": "python3"
  },
  "language_info": {
   "codemirror_mode": {
    "name": "ipython",
    "version": 3
   },
   "file_extension": ".py",
   "mimetype": "text/x-python",
   "name": "python",
   "nbconvert_exporter": "python",
   "pygments_lexer": "ipython3",
   "version": "3.6.4"
  }
 },
 "nbformat": 4,
 "nbformat_minor": 2
}
