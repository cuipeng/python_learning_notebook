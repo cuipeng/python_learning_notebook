{
 "cells": [
  {
   "cell_type": "markdown",
   "metadata": {},
   "source": [
    "mxnet_1_lineRegression的label（y）是单值。本节课是多分类得分"
   ]
  },
  {
   "cell_type": "markdown",
   "metadata": {},
   "source": [
    "1.下载数据："
   ]
  },
  {
   "cell_type": "code",
   "execution_count": null,
   "metadata": {},
   "outputs": [],
   "source": [
    "from mxnet import gluon\n",
    "from mxnet import ndarray as nd\n",
    "\n",
    "def transform(data, label):\n",
    "    return data.astype('float32')/255, label.astype('float32')\n",
    "\n",
    "mnist_train = gluon.data.vision.FashionMNIST(train=True, transform=transform)\n",
    "mnist_test  = gluon.data.vision.FashionMNIST(train=False, transform=transform)\n",
    "print (type(mnist_train))\n",
    "#print (mnist_train.shape)"
   ]
  },
  {
   "cell_type": "code",
   "execution_count": null,
   "metadata": {
    "scrolled": true
   },
   "outputs": [],
   "source": [
    "data, label = mnist_train[0]\n",
    "print ('example shape: ', data.shape, 'label:', label)\n",
    "\n",
    "#help(gluon.data.vision.FashionMNIST)\n",
    "print(data[3]) #28*1\n",
    "print(data[3].reshape((28,)))#28"
   ]
  },
  {
   "cell_type": "markdown",
   "metadata": {},
   "source": [
    "2.准备数据"
   ]
  },
  {
   "cell_type": "code",
   "execution_count": null,
   "metadata": {},
   "outputs": [],
   "source": [
    "import matplotlib.pyplot as plt\n",
    "\n",
    "def show_images(images):\n",
    "    n = images.shape[0]\n",
    "    _, figs = plt.subplots(1, n, figsize=(15, 15))\n",
    "    for i in range(n):\n",
    "        figs[i].imshow(images[i].reshape((28,28)).asnumpy())\n",
    "        figs[i].axes.get_xaxis().set_visible(False)\n",
    "        figs[i].axes.get_yaxis().set_visible(False)\n",
    "    plt.show()\n",
    "\n",
    "def get_text_labels(label):\n",
    "    text_labels = [\n",
    "        't-shirt', 'trouser', 'pullover', 'dress,', 'coat',\n",
    "        'sandal', 'shirt', 'sneaker', 'bag', 'ankle boot'\n",
    "    ]\n",
    "    return [text_labels[int(i)] for i in label]\n",
    "\n",
    "data, label = mnist_train[0:9]\n",
    "show_images(data)\n",
    "\n",
    "batch_size = 256\n",
    "train_data = gluon.data.DataLoader(mnist_train, batch_size, shuffle=True)\n",
    "test_data  = gluon.data.DataLoader(mnist_test,  batch_size, shuffle=False)"
   ]
  },
  {
   "cell_type": "markdown",
   "metadata": {},
   "source": [
    "3.准备参数"
   ]
  },
  {
   "cell_type": "code",
   "execution_count": null,
   "metadata": {},
   "outputs": [],
   "source": [
    "num_inputs  = 28*28\n",
    "num_output = 10\n",
    "\n",
    "w = nd.random_normal(shape=(num_inputs,num_output))\n",
    "b = nd.random_normal(shape=num_output)\n",
    "params = [w, b]\n",
    "\n",
    "for param in params:\n",
    "    param.attach_grad()"
   ]
  },
  {
   "cell_type": "markdown",
   "metadata": {},
   "source": [
    "4.定义网络"
   ]
  },
  {
   "cell_type": "code",
   "execution_count": null,
   "metadata": {},
   "outputs": [],
   "source": [
    "def softmax(x):\n",
    "    exp = nd.exp(x)\n",
    "    partition = exp.sum(axis=1, keepdims=True)\n",
    "    return exp/partition"
   ]
  },
  {
   "cell_type": "code",
   "execution_count": null,
   "metadata": {},
   "outputs": [],
   "source": [
    "def net(X):\n",
    "    #reshape是输入的X是3D的，即batch_size*28*28的数据,reshape为batch_size*284\n",
    "    return softmax(nd.dot(X.reshape((-1,num_inputs)),w) + b)"
   ]
  },
  {
   "cell_type": "markdown",
   "metadata": {},
   "source": [
    "5.定义Loss函数"
   ]
  },
  {
   "cell_type": "code",
   "execution_count": null,
   "metadata": {},
   "outputs": [],
   "source": [
    "#实际值：yvec=[0, 1, 0, 0, 0, 0, 0, 0, 0, 0]\n",
    "#预测值：yhat=[.....]\n",
    "#交叉熵 yvec[0]*log(yhat[0])+...+yvec[n]*log(yhat[n])\n",
    "#相乘后为：log(yhat[y])\n",
    "def cross_entropy(yhat, y):\n",
    "    return -nd.pick(nd.log(yhat),y)\n",
    "\n",
    "def accuracy(output, label):\n",
    "    #output 256个10维向量\n",
    "    #label 256向量\n",
    "    return nd.mean(output.argmax(axis=1)==label).asscalar()\n",
    "\n",
    "def evaluate_accuracy(data_iterator, net):\n",
    "    acc = 0.\n",
    "    for data, label in data_iterator:\n",
    "        output = net(data)\n",
    "        acc += accuracy(output, label)\n",
    "    return acc / len(data_iterator)\n",
    "\n",
    "evaluate_accuracy(test_data, net)"
   ]
  },
  {
   "cell_type": "markdown",
   "metadata": {},
   "source": [
    "6.训练"
   ]
  },
  {
   "cell_type": "code",
   "execution_count": null,
   "metadata": {},
   "outputs": [],
   "source": [
    "import sys\n",
    "sys.path.append('..')\n",
    "from utils import SGD #是同目录下的utils.py文件\n",
    "import mxnet.autograd as ag\n",
    "\n",
    "lr = .01\n",
    "epochs = 10\n",
    "\n",
    "for epoch in range(epochs):\n",
    "    train_loss = 0.\n",
    "    train_acc  = 0.\n",
    "    for data, label in train_data:\n",
    "        with ag.record():\n",
    "            output = net(data)\n",
    "            loss   = cross_entropy(output, label)\n",
    "        loss.backward()\n",
    "        SGD(params, lr/batch_size)\n",
    "        \n",
    "        train_loss += nd.mean(loss).asscalar()\n",
    "        train_acc  += accuracy(output, label)\n",
    "    \n",
    "    test_acc = evaluate_accuracy(test_data, net)\n",
    "    print (\"Epoch %d. Loss %f. Acc %f. Test Acc %f\" % (\n",
    "        epoch, train_loss/len(train_data), train_acc/len(train_data), test_acc))"
   ]
  }
 ],
 "metadata": {
  "kernelspec": {
   "display_name": "Python 3",
   "language": "python",
   "name": "python3"
  },
  "language_info": {
   "codemirror_mode": {
    "name": "ipython",
    "version": 3
   },
   "file_extension": ".py",
   "mimetype": "text/x-python",
   "name": "python",
   "nbconvert_exporter": "python",
   "pygments_lexer": "ipython3",
   "version": "3.6.4"
  }
 },
 "nbformat": 4,
 "nbformat_minor": 2
}
