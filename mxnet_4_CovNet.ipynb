{
 "cells": [
  {
   "cell_type": "code",
   "execution_count": null,
   "metadata": {},
   "outputs": [],
   "source": [
    "from mxnet.gluon import nn\n",
    "import mxnet as mx\n",
    "import mxnet.ndarray as nd\n",
    "net = nn.Sequential()\n",
    "net.add(nn.Dense(1))\n",
    "\n",
    "net.initialize(ctx=mx.gpu())"
   ]
  },
  {
   "cell_type": "code",
   "execution_count": null,
   "metadata": {},
   "outputs": [],
   "source": [
    "data = nd.random.uniform(shape=[3,2], ctx=mx.gpu())\n",
    "print (net(data))\n",
    "print (net)\n",
    "print (net[0].weight.data())"
   ]
  },
  {
   "cell_type": "markdown",
   "metadata": {},
   "source": [
    "输入为单通道："
   ]
  },
  {
   "cell_type": "code",
   "execution_count": null,
   "metadata": {},
   "outputs": [],
   "source": [
    "from mxnet import nd\n",
    "w = nd.arange(4).reshape((1,1,2,2))\n",
    "b = nd.array([1])\n",
    "\n",
    "data = nd.arange(9).reshape((1,1,3,3))\n",
    "out = nd.Convolution(data, w, b, kernel=w.shape[2:], num_filter=w.shape[1])\n",
    "print ('input:',data,'\\n\\nweight:',w,'\\n\\nbias:', b, '\\n\\noutput:', out)"
   ]
  },
  {
   "cell_type": "markdown",
   "metadata": {},
   "source": [
    "输入为多通道："
   ]
  },
  {
   "cell_type": "code",
   "execution_count": null,
   "metadata": {},
   "outputs": [],
   "source": [
    "w = nd.arange(24).reshape((3,2,2,2))\n",
    "data = nd.arange(18).reshape((1,2,3,3))\n",
    "b = nd.array([1,2,3])\n",
    "\n",
    "out = nd.Convolution(data, w, b, kernel=w.shape[2:], num_filter=w.shape[0])\n",
    "\n",
    "print('input:', data, '\\n\\nweight:', w, '\\n\\nbias:', b, '\\n\\noutput:', out)"
   ]
  },
  {
   "cell_type": "code",
   "execution_count": null,
   "metadata": {},
   "outputs": [],
   "source": [
    "w = nd.arange(24).reshape((2,3,2,2))\n",
    "print('weight:', w)"
   ]
  },
  {
   "cell_type": "code",
   "execution_count": null,
   "metadata": {},
   "outputs": [],
   "source": [
    "data = nd.arange(18).reshape((1,2,3,3))\n",
    "\n",
    "max_pool = nd.Pooling(data=data, pool_type=\"max\", kernel=(2,2))\n",
    "\n",
    "\n",
    "print('data:', data, '\\n\\nmax pooling:', max_pool)"
   ]
  },
  {
   "cell_type": "markdown",
   "metadata": {},
   "source": [
    "## 获取数据"
   ]
  },
  {
   "cell_type": "code",
   "execution_count": null,
   "metadata": {},
   "outputs": [],
   "source": [
    "import sys\n",
    "sys.path.append('..')\n",
    "from utils import load_data_fashion_mnist\n",
    "\n",
    "batch_size = 256\n",
    "train_data, test_data = load_data_fashion_mnist(batch_size)"
   ]
  },
  {
   "cell_type": "markdown",
   "metadata": {},
   "source": [
    "## 定义模型"
   ]
  },
  {
   "cell_type": "code",
   "execution_count": null,
   "metadata": {},
   "outputs": [],
   "source": [
    "import mxnet as mx\n",
    "\n",
    "try:\n",
    "    ctx = mx.gpu()\n",
    "    _ = nd.zeros((1,), ctx=ctx)\n",
    "except:\n",
    "    ctx = mx.cpu()\n",
    "ctx"
   ]
  },
  {
   "attachments": {},
   "cell_type": "markdown",
   "metadata": {},
   "source": [
    "LeNet:\n",
    "\n",
    "![lenet](./lenet.jpeg)"
   ]
  },
  {
   "cell_type": "code",
   "execution_count": null,
   "metadata": {},
   "outputs": [],
   "source": [
    "weight_scale = .01\n",
    "\n",
    "# output channels = 20, kernel = (5,5)\n",
    "W1 = nd.random_normal(shape=(20,1,5,5), scale=weight_scale, ctx=ctx)\n",
    "b1 = nd.zeros(W1.shape[0], ctx=ctx)\n",
    "\n",
    "# output channels = 50, kernel = (3,3)\n",
    "W2 = nd.random_normal(shape=(50,20,3,3), scale=weight_scale, ctx=ctx)\n",
    "b2 = nd.zeros(W2.shape[0], ctx=ctx)\n",
    "\n",
    "# output dim = 128\n",
    "W3 = nd.random_normal(shape=(1250, 128), scale=weight_scale, ctx=ctx)\n",
    "b3 = nd.zeros(W3.shape[1], ctx=ctx)\n",
    "\n",
    "# output dim = 10\n",
    "W4 = nd.random_normal(shape=(W3.shape[1], 10), scale=weight_scale, ctx=ctx)\n",
    "b4 = nd.zeros(W4.shape[1], ctx=ctx)\n",
    "\n",
    "params = [W1, b1, W2, b2, W3, b3, W4, b4]\n",
    "for param in params:\n",
    "    param.attach_grad()"
   ]
  },
  {
   "cell_type": "code",
   "execution_count": null,
   "metadata": {},
   "outputs": [],
   "source": [
    "print (param)"
   ]
  },
  {
   "cell_type": "code",
   "execution_count": null,
   "metadata": {},
   "outputs": [],
   "source": [
    "def net(X, verbose=False):\n",
    "    X = X.as_in_context(W1.context)\n",
    "    # 第一层卷积\n",
    "    h1_conv = nd.Convolution(\n",
    "        data=X, weight=W1, bias=b1, kernel=W1.shape[2:], num_filter=W1.shape[0])\n",
    "    h1_activation = nd.relu(h1_conv)\n",
    "    h1 = nd.Pooling(\n",
    "        data=h1_activation, pool_type=\"max\", kernel=(2,2), stride=(2,2))\n",
    "    # 第二层卷积\n",
    "    h2_conv = nd.Convolution(\n",
    "        data=h1, weight=W2, bias=b2, kernel=W2.shape[2:], num_filter=W2.shape[0])\n",
    "    h2_activation = nd.relu(h2_conv)\n",
    "    h2 = nd.Pooling(data=h2_activation, pool_type=\"max\", kernel=(2,2), stride=(2,2))\n",
    "    h2 = nd.flatten(h2)\n",
    "    # 第一层全连接\n",
    "    h3_linear = nd.dot(h2, W3) + b3\n",
    "    h3 = nd.relu(h3_linear)\n",
    "    # 第二层全连接\n",
    "    h4_linear = nd.dot(h3, W4) + b4\n",
    "    if verbose:\n",
    "        print('1st conv block:', h1.shape)\n",
    "        print('2nd conv block:', h2.shape)\n",
    "        print('1st dense:', h3.shape)\n",
    "        print('2nd dense:', h4_linear.shape)\n",
    "        print('output:', h4_linear)\n",
    "    return h4_linear"
   ]
  },
  {
   "cell_type": "code",
   "execution_count": null,
   "metadata": {},
   "outputs": [],
   "source": [
    "for data, _ in train_data:\n",
    "    out = net(data, verbose=True)\n",
    "    print (out.max(axis=1)) #out.argmax(axis=1)\n",
    "    break"
   ]
  },
  {
   "cell_type": "markdown",
   "metadata": {},
   "source": [
    "## 训练"
   ]
  },
  {
   "cell_type": "code",
   "execution_count": null,
   "metadata": {},
   "outputs": [],
   "source": [
    "from mxnet import autograd as autograd\n",
    "from utils import SGD, accuracy, evaluate_accuracy\n",
    "from mxnet import gluon\n",
    "\n",
    "softmax_cross_entropy = gluon.loss.SoftmaxCrossEntropyLoss()\n",
    "\n",
    "learning_rate = .2\n",
    "\n",
    "for epoch in range(5):\n",
    "    train_loss = 0.\n",
    "    train_acc = 0.\n",
    "    for data, label in train_data:\n",
    "        label = label.as_in_context(ctx)\n",
    "        with autograd.record():\n",
    "            output = net(data)\n",
    "            loss = softmax_cross_entropy(output, label)\n",
    "        loss.backward()\n",
    "        SGD(params, learning_rate/batch_size)\n",
    "\n",
    "        train_loss += nd.mean(loss).asscalar()\n",
    "        train_acc += accuracy(output, label)\n",
    "\n",
    "    test_acc = evaluate_accuracy(test_data, net, ctx)\n",
    "    print(\"Epoch %d. Loss: %f, Train acc %f, Test acc %f\" % (\n",
    "        epoch, train_loss/len(train_data),\n",
    "        train_acc/len(train_data), test_acc))"
   ]
  },
  {
   "cell_type": "markdown",
   "metadata": {},
   "source": [
    "# GLUON"
   ]
  },
  {
   "cell_type": "code",
   "execution_count": null,
   "metadata": {},
   "outputs": [],
   "source": [
    "net = nn.Sequential()\n",
    "with net.name_scope():\n",
    "    net.add(\n",
    "        nn.Conv2D(channels=20, kernel_size=5, activation='relu'),\n",
    "        nn.MaxPool2D(pool_size=2, strides=2),\n",
    "        nn.Conv2D(channels=50, kernel_size=3, activation='relu'),\n",
    "        nn.MaxPool2D(pool_size=2, strides=2),\n",
    "        nn.Flatten(),\n",
    "        nn.Dense(128, activation=\"relu\"),\n",
    "        nn.Dense(10)\n",
    "    )"
   ]
  },
  {
   "cell_type": "code",
   "execution_count": null,
   "metadata": {},
   "outputs": [],
   "source": [
    "from mxnet import gluon\n",
    "import sys\n",
    "sys.path.append('..')\n",
    "import utils\n",
    "\n",
    "# 初始化\n",
    "ctx = utils.try_gpu()\n",
    "net.initialize(ctx=ctx)\n",
    "print('initialize weight on', ctx)\n",
    "\n",
    "# 获取数据\n",
    "batch_size = 256\n",
    "train_data, test_data = utils.load_data_fashion_mnist(batch_size)\n",
    "\n",
    "# 训练\n",
    "loss = gluon.loss.SoftmaxCrossEntropyLoss()\n",
    "trainer = gluon.Trainer(net.collect_params(),\n",
    "                        'sgd', {'learning_rate': 0.5})\n",
    "utils.train(train_data, test_data, net, loss,\n",
    "            trainer, ctx, num_epochs=5)"
   ]
  },
  {
   "cell_type": "markdown",
   "metadata": {},
   "source": [
    "### 复杂网络模型"
   ]
  },
  {
   "cell_type": "code",
   "execution_count": 91,
   "metadata": {},
   "outputs": [
    {
     "name": "stdout",
     "output_type": "stream",
     "text": [
      "BaseMLP(\n",
      "  (net): Sequential(\n",
      "    (0): Dense(None -> 256, Activation(relu))\n",
      "    (1): Dense(None -> 128, Activation(relu))\n",
      "  )\n",
      "  (dense): Dense(None -> 128, linear)\n",
      ")\n",
      "Sequential(\n",
      "  (0): BaseMLP(\n",
      "    (net): Sequential(\n",
      "      (0): Dense(None -> 256, Activation(relu))\n",
      "      (1): Dense(None -> 128, Activation(relu))\n",
      "    )\n",
      "    (dense): Dense(None -> 128, linear)\n",
      "  )\n",
      "  (1): Dense(None -> 10, linear)\n",
      ")\n",
      "sequential43_ (\n",
      "  Parameter sequential44_dense0_weight (shape=(256, 5), dtype=<class 'numpy.float32'>)\n",
      "  Parameter sequential44_dense0_bias (shape=(256,), dtype=<class 'numpy.float32'>)\n",
      "  Parameter sequential44_dense1_weight (shape=(128, 256), dtype=<class 'numpy.float32'>)\n",
      "  Parameter sequential44_dense1_bias (shape=(128,), dtype=<class 'numpy.float32'>)\n",
      "  Parameter sequential44_dense2_weight (shape=(128, 128), dtype=<class 'numpy.float32'>)\n",
      "  Parameter sequential44_dense2_bias (shape=(128,), dtype=<class 'numpy.float32'>)\n",
      "  Parameter dense12_weight (shape=(10, 128), dtype=<class 'numpy.float32'>)\n",
      "  Parameter dense12_bias (shape=(10,), dtype=<class 'numpy.float32'>)\n",
      ")\n"
     ]
    }
   ],
   "source": [
    "from mxnet.gluon import nn\n",
    "from mxnet import init\n",
    "\n",
    "class BaseMLP(nn.Block):\n",
    "    def __init__(self, **kwargs):\n",
    "        super(BaseMLP, self).__init__(**kwargs)\n",
    "        self.net = nn.Sequential()\n",
    "        with self.net.name_scope():\n",
    "            self.net.add(nn.Dense(256, activation='relu'))\n",
    "            self.net.add(nn.Dense(128, activation='relu'))\n",
    "            self.dense = nn.Dense(128)\n",
    "    def forward(self, x):\n",
    "        return nd.relu(self.dense(self.net(x)))\n",
    "        #网络形状应该由forward推到出来的把？\n",
    "print (BaseMLP())\n",
    "abc_mlp = nn.Sequential()\n",
    "abc_mlp.add(BaseMLP())\n",
    "abc_mlp.add(nn.Dense(10))\n",
    "\n",
    "print (abc_mlp)\n",
    "print (params)"
   ]
  },
  {
   "cell_type": "code",
   "execution_count": 92,
   "metadata": {
    "scrolled": true
   },
   "outputs": [
    {
     "name": "stdout",
     "output_type": "stream",
     "text": [
      "sequential46_ (\n",
      "  Parameter sequential47_dense0_weight (shape=(256, 0), dtype=<class 'numpy.float32'>)\n",
      "  Parameter sequential47_dense0_bias (shape=(256,), dtype=<class 'numpy.float32'>)\n",
      "  Parameter sequential47_dense1_weight (shape=(128, 0), dtype=<class 'numpy.float32'>)\n",
      "  Parameter sequential47_dense1_bias (shape=(128,), dtype=<class 'numpy.float32'>)\n",
      "  Parameter sequential47_dense2_weight (shape=(128, 0), dtype=<class 'numpy.float32'>)\n",
      "  Parameter sequential47_dense2_bias (shape=(128,), dtype=<class 'numpy.float32'>)\n",
      "  Parameter dense13_weight (shape=(10, 0), dtype=<class 'numpy.float32'>)\n",
      "  Parameter dense13_bias (shape=(10,), dtype=<class 'numpy.float32'>)\n",
      ")\n",
      "sequential46_ (\n",
      "  Parameter sequential47_dense0_weight (shape=(256, 5), dtype=<class 'numpy.float32'>)\n",
      "  Parameter sequential47_dense0_bias (shape=(256,), dtype=<class 'numpy.float32'>)\n",
      "  Parameter sequential47_dense1_weight (shape=(128, 256), dtype=<class 'numpy.float32'>)\n",
      "  Parameter sequential47_dense1_bias (shape=(128,), dtype=<class 'numpy.float32'>)\n",
      "  Parameter sequential47_dense2_weight (shape=(128, 128), dtype=<class 'numpy.float32'>)\n",
      "  Parameter sequential47_dense2_bias (shape=(128,), dtype=<class 'numpy.float32'>)\n",
      "  Parameter dense13_weight (shape=(10, 128), dtype=<class 'numpy.float32'>)\n",
      "  Parameter dense13_bias (shape=(10,), dtype=<class 'numpy.float32'>)\n",
      ")\n"
     ]
    }
   ],
   "source": [
    "x = nd.random.uniform(shape=(3,5))\n",
    "\n",
    "abc_mlp.initialize(init=init.One())#不执行就报错\n",
    "\n",
    "params = abc_mlp.collect_params()\n",
    "print(params)\n",
    "\n",
    "abc_mlp(x)\n",
    "print(params)#不给数据，不出最终的参数规模(shape)\n",
    "#params.initial(init=init)"
   ]
  },
  {
   "cell_type": "code",
   "execution_count": null,
   "metadata": {},
   "outputs": [],
   "source": []
  }
 ],
 "metadata": {
  "kernelspec": {
   "display_name": "Python 3",
   "language": "python",
   "name": "python3"
  },
  "language_info": {
   "codemirror_mode": {
    "name": "ipython",
    "version": 3
   },
   "file_extension": ".py",
   "mimetype": "text/x-python",
   "name": "python",
   "nbconvert_exporter": "python",
   "pygments_lexer": "ipython3",
   "version": "3.6.4"
  }
 },
 "nbformat": 4,
 "nbformat_minor": 2
}
