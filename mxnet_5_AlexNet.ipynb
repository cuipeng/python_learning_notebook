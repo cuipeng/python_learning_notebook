{
 "cells": [
  {
   "cell_type": "code",
   "execution_count": null,
   "metadata": {},
   "outputs": [],
   "source": [
    "from mxnet.gluon import nn\n",
    "\n",
    "net = nn.Sequential()\n",
    "with net.name_scope():\n",
    "    #第一层网络\n",
    "    net.add(nn.Conv2D(channels=96, kernel_size=11, strides=4, activation='relu'))\n",
    "    net.add(nn.MaxPool2D(pool_size=3, strides=2))\n",
    "    #第二层网络\n",
    "    net.add(nn.Conv2D(channels=256, kernel_size=5, padding=2, activation='relu'))\n",
    "    net.add(nn.MaxPool2D(pool_size=3, strides=2))\n",
    "    #第三层网络\n",
    "    net.add(nn.Conv2D(channels=384, kernel_size=3, padding=1, activation='relu'))\n",
    "    net.add(nn.Conv2D(channels=384, kernel_size=3, padding=1, activation='relu'))\n",
    "    net.add(nn.Conv2D(channels=256, kernel_size=3, padding=1, activation='relu'))\n",
    "    net.add(nn.MaxPool2D(pool_size=3, strides=2))\n",
    "    #第四层网络\n",
    "    net.add(nn.Flatten())\n",
    "    net.add(nn.Dense(4096, activation='relu'))\n",
    "    net.add(nn.Dropout(.5))\n",
    "    #第五层网络\n",
    "    net.add(nn.Dense(4096, activation='relu'))\n",
    "    net.add(nn.Dropout(.5))\n",
    "    #第六层网络\n",
    "    net.add(nn.Dense(10))\n",
    "    "
   ]
  },
  {
   "cell_type": "code",
   "execution_count": null,
   "metadata": {},
   "outputs": [],
   "source": [
    "print (net)"
   ]
  },
  {
   "cell_type": "code",
   "execution_count": null,
   "metadata": {},
   "outputs": [],
   "source": [
    "import sys\n",
    "sys.path.append('..')\n",
    "import utils\n",
    "\n",
    "train_data, test_data = utils.load_data_fashion_mnist(\n",
    "    batch_size=64, resize=224)"
   ]
  },
  {
   "cell_type": "code",
   "execution_count": null,
   "metadata": {},
   "outputs": [],
   "source": [
    "from mxnet import init\n",
    "from mxnet import gluon\n",
    "\n",
    "ctx = utils.try_gpu()\n",
    "net.initialize(ctx=ctx, init=init.Xavier())\n",
    "\n",
    "loss = gluon.loss.SoftmaxCrossEntropyLoss()\n",
    "trainer = gluon.Trainer(net.collect_params(),\n",
    "                        'sgd', {'learning_rate': 0.01})\n",
    "utils.train(train_data, test_data, net, loss,\n",
    "            trainer, ctx, num_epochs=10)"
   ]
  }
 ],
 "metadata": {
  "kernelspec": {
   "display_name": "Python 3",
   "language": "python",
   "name": "python3"
  },
  "language_info": {
   "codemirror_mode": {
    "name": "ipython",
    "version": 3
   },
   "file_extension": ".py",
   "mimetype": "text/x-python",
   "name": "python",
   "nbconvert_exporter": "python",
   "pygments_lexer": "ipython3",
   "version": "3.6.4"
  }
 },
 "nbformat": 4,
 "nbformat_minor": 2
}
